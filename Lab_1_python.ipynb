{
 "cells": [
  {
   "cell_type": "code",
   "execution_count": 1,
   "id": "bbb320b1",
   "metadata": {},
   "outputs": [
    {
     "name": "stdout",
     "output_type": "stream",
     "text": [
      "Requirement already satisfied: mysql-connector-python in ./anaconda3/lib/python3.10/site-packages (8.0.33)\r\n",
      "Requirement already satisfied: protobuf<=3.20.3,>=3.11.0 in ./anaconda3/lib/python3.10/site-packages (from mysql-connector-python) (3.20.3)\r\n"
     ]
    }
   ],
   "source": [
    "#Load Required Libraries\n",
    "!pip install mysql-connector-python"
   ]
  },
  {
   "cell_type": "markdown",
   "id": "344801e6",
   "metadata": {},
   "source": [
    "# Connect to DB using Mysql-connector-python package"
   ]
  },
  {
   "cell_type": "code",
   "execution_count": 2,
   "id": "ace060da",
   "metadata": {},
   "outputs": [],
   "source": [
    "import mysql.connector\n",
    "import pandas as pd"
   ]
  },
  {
   "cell_type": "markdown",
   "id": "8b74c0d5",
   "metadata": {},
   "source": [
    "# You are required to create a database named 'e_commerce'"
   ]
  },
  {
   "cell_type": "code",
   "execution_count": 3,
   "id": "4ce42ed2",
   "metadata": {},
   "outputs": [],
   "source": [
    "connection =mysql.connector.connect(host =\"localhost\",\n",
    "                                   user =\"root\",\n",
    "                                   passwd =\"chandak@1981\")\n",
    "cursorObject = connection.cursor()\n",
    "cursorObject.execute(\"CREATE DATABASE e_commerce\")\n",
    "connection.close()"
   ]
  },
  {
   "cell_type": "markdown",
   "id": "352e0306",
   "metadata": {},
   "source": [
    "# Q1. Create tables for supplier, customer, category, product, productDetails, order, rating to store the data for the E-commerce with the schema definition given below."
   ]
  },
  {
   "cell_type": "code",
   "execution_count": 4,
   "id": "6fba2eb7",
   "metadata": {},
   "outputs": [],
   "source": [
    "connection = mysql.connector.connect(host =\"localhost\",\n",
    "                                         user =\"root\",\n",
    "                                         passwd =\"chandak@1981\",\n",
    "                                         database = 'e_commerce')\n",
    "    \n",
    "cursorObject = connection.cursor()\n",
    "table_creation_query = \"\"\"create table supplier(  SUPP_ID     int primary key,\n",
    "                                                                  SUPP_NAME   varchar(50),\n",
    "                                                                   SUPP_CITY   varchar(50),\n",
    "                                                                   SUPP_PHONE  varchar(10));\n",
    "                              \n",
    "                              create table customer (  CUS_ID      int not null,\n",
    "                                                                    CUS_NAME    varchar(20) null default null,\n",
    "                                                                    CUS_PHONE   varchar(10),\n",
    "                                                                     CUS_CITY    varchar(30) ,\n",
    "                                                                     CUS_GENDER  char,\n",
    "                                                                     primary key (CUS_ID) );\n",
    "    \n",
    "                              create table category ( CAT_ID      int not null,\n",
    "                                                                     CAT_NAME    varchar(20) null default null,\n",
    "                                                                     primary key (CAT_ID));\n",
    "                          create table product (\n",
    "                                                                   PRO_ID      int not null,\n",
    "                                                                PRO_NAME    varchar(20) null default null,\n",
    "                                                                    PRO_DESC    varchar(60) null default null,\n",
    "                                                                    CAT_ID      int not null,\n",
    "                                                                    primary key (PRO_ID),\n",
    "                                                                    foreign key (CAT_ID) references category(CAT_ID));\n",
    "                                                                    \n",
    "\n",
    "\n",
    "                             create table product_details (\n",
    "                                                                             PROD_ID     int not null,\n",
    "                                                                             PRO_ID      int not null,\n",
    "                                                                             SUPP_ID     int not null,\n",
    "                                                                             PROD_PRICE  int not null,\n",
    "                                                                            primary key (PROD_ID),\n",
    "                                                                             foreign key (PRO_ID) references product(PRO_ID),\n",
    "                                                                             foreign key (SUPP_ID) references supplier(SUPP_ID));\n",
    "                                                                             \n",
    "      \n",
    "                              create table `order` (\n",
    "                                                                    ORD_ID      int not null,\n",
    "                                                                    ORD_AMOUNT  int not null,\n",
    "                                                                    ORD_DATE    date,\n",
    "                                                                    CUS_ID      int not null,\n",
    "                                                                    PROD_ID     int not null,\n",
    "                                                                    primary key (ORD_ID),\n",
    "                                                                    foreign key (CUS_ID) references customer(CUS_ID),\n",
    "                                                                    foreign key (PROD_ID) references product_details(PROD_ID));\n",
    "                                                                   \n",
    "    \n",
    "                              create table rating (\n",
    "                                                                   RAT_ID int not null,\n",
    "                                                                   CUS_ID int not null,\n",
    "                                                                   SUPP_ID int not null,\n",
    "                                                                  RAT_RATSTARS int not null,\n",
    "                                                                   primary key (RAT_ID),\n",
    "                                                                  foreign key (SUPP_ID) references supplier(SUPP_ID),\n",
    "                                                                   foreign key (CUS_ID) references customer(CUS_ID))\"\"\"\n",
    "cursorObject.execute(table_creation_query)"
   ]
  },
  {
   "cell_type": "markdown",
   "id": "b9956cdf",
   "metadata": {},
   "source": [
    "# Q2. Insert the following data in the table created above¶\n"
   ]
  },
  {
   "cell_type": "code",
   "execution_count": 5,
   "id": "ea9b21b2",
   "metadata": {},
   "outputs": [],
   "source": [
    "connection.close()\n",
    "    \n",
    "connection = mysql.connector.connect(host =\"localhost\",\n",
    "                                     user =\"root\",\n",
    "                                     passwd =\"chandak@1981\",\n",
    "                                    database='e_commerce')\n",
    "   \n",
    "cursorObject = connection.cursor()"
   ]
  },
  {
   "cell_type": "code",
   "execution_count": 6,
   "id": "134d06e4",
   "metadata": {},
   "outputs": [],
   "source": [
    "insert_supplier_details = \"\"\"INSERT INTO supplier (SUPP_ID, SUPP_NAME, SUPP_CITY, SUPP_PHONE)\n",
    "                             VALUES (%s, %s, %s, %s)\"\"\"\n",
    "val = [(1,\"Rajesh Retails\",\"Delhi\",'1234567890'),\n",
    "       (2,\"Appario Ltd.\",\"Mumbai\",'2589631470'),\n",
    "      (3,\"Knome products\",\"Banglore\",'9785462315'),\n",
    "       (4,\"Bansal Retails\",\"Kochi\",'8975463285'),\n",
    "       (5,\"Mittal Ltd.\",\"Lucknow\",'7898456532')]\n",
    "\n",
    "cursorObject.executemany(insert_supplier_details, val)\n",
    "connection.commit()"
   ]
  },
  {
   "cell_type": "code",
   "execution_count": 7,
   "id": "e590b2eb",
   "metadata": {},
   "outputs": [],
   "source": [
    "insert_customer = \"\"\"INSERT INTO customer (CUS_ID , CUS_NAME, CUS_PHONE,CUS_CITY, CUS_GENDER) \n",
    "                           VALUES (%s, %s, %s, %s, %s)\"\"\"\n",
    "    \n",
    "val = [(1,'AAKASH', 9999999999, 'DELHI', 'M'),\n",
    "       (2,'AMAN', 9785463215, 'NOIDA', 'M'),\n",
    "       (3,'NEHA', 9999999998,'MUMBAI' ,'F'),\n",
    "       (4,'MEGHA', 9994562399,'KOLKATA','F'),\n",
    "       (5,'PULKIT',7895999999, 'LUCKNOW','M')]\n",
    "\n",
    "cursorObject.executemany(insert_customer, val)\n",
    "connection.commit()"
   ]
  },
  {
   "cell_type": "code",
   "execution_count": 8,
   "id": "376fee9f",
   "metadata": {},
   "outputs": [],
   "source": [
    "insert_category = \"\"\"INSERT INTO category (CAT_ID , CAT_NAME) \n",
    "                       VALUES (%s, %s)\"\"\"\n",
    "    \n",
    "val = [(1,'BOOKS'),\n",
    "       (2,'GAMES'),\n",
    "       (3,'GROCERIES'),\n",
    "       (4,'ELECTRONICS'),\n",
    "       (5,'CLOTHES')]\n",
    "\n",
    "cursorObject.executemany(insert_category, val)\n",
    "connection.commit()"
   ]
  },
  {
   "cell_type": "code",
   "execution_count": 9,
   "id": "adffa9d1",
   "metadata": {},
   "outputs": [],
   "source": [
    "insert_product = \"\"\"INSERT INTO product (PRO_ID ,PRO_NAME, PRO_DESC, CAT_ID)\n",
    "                          VALUES (%s, %s, %s, %s)\"\"\"\n",
    "    \n",
    "val = [(1,'GTA V', 'DFJDJFDJFDJFDJFJF', 2),\n",
    "       (2,'TSHIRT', 'DFDFJDFJDKFD', 5),\n",
    "       (3,'ROG LAPTOP', ' DFNTTNTNTERND', 4),\n",
    "       (4,'OATS', 'REURENTBTOTH',3),\n",
    "       (5,'HARRY POTTER', 'NBEMCTHTJTH', 1)]\n",
    "\n",
    "cursorObject.executemany(insert_product, val)\n",
    "connection.commit()"
   ]
  },
  {
   "cell_type": "code",
   "execution_count": 10,
   "id": "626aba5f",
   "metadata": {},
   "outputs": [],
   "source": [
    "insert_product_details = \"\"\"INSERT INTO product_details ( PROD_ID , PRO_ID, SUPP_ID , PROD_PRICE)\n",
    "                           VALUES (%s, %s, %s, %s)\"\"\"\n",
    "\n",
    "val = [(1,1,2,1500),\n",
    "       (2,3,5,30000),\n",
    "       (3,5,1,3000),\n",
    "       (4,2,3,2500),\n",
    "       (5,4,1,1000 )]\n",
    "\n",
    "cursorObject.executemany(insert_product_details, val)\n",
    "connection.commit()"
   ]
  },
  {
   "cell_type": "code",
   "execution_count": 11,
   "id": "645a633a",
   "metadata": {},
   "outputs": [],
   "source": [
    "insert_order = \"\"\"INSERT INTO `order` (ORD_ID, ORD_AMOUNT, ORD_DATE, CUS_ID, PROD_ID)\n",
    "                             VALUES (%s, %s, %s, %s, %s)\"\"\"\n",
    "    \n",
    "val = [(20,1500,\"2021-10-12\",3,5),\n",
    "       (25,30500,\"2021-09-16\",5,2),\n",
    "       (26,2000,\"2021-10-05\",1,1),\n",
    "       (30,3500,\"2021-08-16\",4,3),\n",
    "       (50,2000,\"2021-10-06\",2,1)]\n",
    "    \n",
    "cursorObject.executemany(insert_order, val)\n",
    "connection.commit()"
   ]
  },
  {
   "cell_type": "code",
   "execution_count": 12,
   "id": "14539fb8",
   "metadata": {},
   "outputs": [],
   "source": [
    "insert_rating = \"\"\"INSERT INTO rating (RAT_ID, CUS_ID, SUPP_ID, RAT_RATSTARS)\n",
    "                             VALUES (%s, %s, %s, %s)\"\"\"\n",
    "\n",
    "val = [(1,2,2,4),\n",
    "       (2,3,4,3),\n",
    "       (3,5,1,5),\n",
    "       (4,1,3,2),\n",
    "       (5,4,5,4)]\n",
    "\n",
    "cursorObject.executemany(insert_rating, val)\n",
    "connection.commit()"
   ]
  },
  {
   "cell_type": "markdown",
   "id": "18f178b2",
   "metadata": {},
   "source": [
    "# Q3) Display the number of the customer group by their genders who have placed any order of amount greater than or equal to Rs.3000."
   ]
  },
  {
   "cell_type": "code",
   "execution_count": 14,
   "id": "8983112f",
   "metadata": {},
   "outputs": [
    {
     "data": {
      "text/html": [
       "<div>\n",
       "<style scoped>\n",
       "    .dataframe tbody tr th:only-of-type {\n",
       "        vertical-align: middle;\n",
       "    }\n",
       "\n",
       "    .dataframe tbody tr th {\n",
       "        vertical-align: top;\n",
       "    }\n",
       "\n",
       "    .dataframe thead th {\n",
       "        text-align: right;\n",
       "    }\n",
       "</style>\n",
       "<table border=\"1\" class=\"dataframe\">\n",
       "  <thead>\n",
       "    <tr style=\"text-align: right;\">\n",
       "      <th></th>\n",
       "      <th>Customer Count</th>\n",
       "      <th>Gender</th>\n",
       "    </tr>\n",
       "  </thead>\n",
       "  <tbody>\n",
       "    <tr>\n",
       "      <th>0</th>\n",
       "      <td>1</td>\n",
       "      <td>M</td>\n",
       "    </tr>\n",
       "    <tr>\n",
       "      <th>1</th>\n",
       "      <td>1</td>\n",
       "      <td>F</td>\n",
       "    </tr>\n",
       "  </tbody>\n",
       "</table>\n",
       "</div>"
      ],
      "text/plain": [
       "   Customer Count Gender\n",
       "0               1      M\n",
       "1               1      F"
      ]
     },
     "execution_count": 14,
     "metadata": {},
     "output_type": "execute_result"
    }
   ],
   "source": [
    "Q3 = \"\"\"  select count(cust.cus_id) cust_count,cust.cus_gender\n",
    "                    from e_commerce.customer cust\n",
    "                   inner join  e_commerce.order ord\n",
    "                          on cust.cus_id = ord.cus_id\n",
    "                   where ord.ord_amount >=3000\n",
    "                   group by cust.cus_gender \"\"\"\n",
    "\n",
    "cursorObject.execute(Q3)\n",
    "\n",
    "output = cursorObject.fetchall()\n",
    "    \n",
    "output_df = pd.DataFrame(output, columns=['Customer Count','Gender'])\n",
    "output_df"
   ]
  },
  {
   "cell_type": "markdown",
   "id": "3ac08c51",
   "metadata": {},
   "source": [
    "# Q4) Display all the order along with product name ordered by a customer having Customer_Id=2"
   ]
  },
  {
   "cell_type": "code",
   "execution_count": 15,
   "id": "322ace86",
   "metadata": {},
   "outputs": [
    {
     "data": {
      "text/html": [
       "<div>\n",
       "<style scoped>\n",
       "    .dataframe tbody tr th:only-of-type {\n",
       "        vertical-align: middle;\n",
       "    }\n",
       "\n",
       "    .dataframe tbody tr th {\n",
       "        vertical-align: top;\n",
       "    }\n",
       "\n",
       "    .dataframe thead th {\n",
       "        text-align: right;\n",
       "    }\n",
       "</style>\n",
       "<table border=\"1\" class=\"dataframe\">\n",
       "  <thead>\n",
       "    <tr style=\"text-align: right;\">\n",
       "      <th></th>\n",
       "      <th>Product Name</th>\n",
       "      <th>Order Id</th>\n",
       "      <th>Order Amount</th>\n",
       "      <th>Order Date</th>\n",
       "    </tr>\n",
       "  </thead>\n",
       "  <tbody>\n",
       "    <tr>\n",
       "      <th>0</th>\n",
       "      <td>GTA V</td>\n",
       "      <td>50</td>\n",
       "      <td>2000</td>\n",
       "      <td>2021-10-06</td>\n",
       "    </tr>\n",
       "  </tbody>\n",
       "</table>\n",
       "</div>"
      ],
      "text/plain": [
       "  Product Name  Order Id  Order Amount  Order Date\n",
       "0        GTA V        50          2000  2021-10-06"
      ]
     },
     "execution_count": 15,
     "metadata": {},
     "output_type": "execute_result"
    }
   ],
   "source": [
    "Q4 = \"\"\"  select pro.PRO_NAME, ord.ORD_ID, ord.ORD_AMOUNT, ord.ORD_DATE\n",
    "                        from e_commerce.order ord\n",
    "                       inner join e_commerce.product_details prod\n",
    "                          on ord.prod_id = prod.prod_id\n",
    "                       inner join e_commerce.product pro\n",
    "                          on pro.pro_id = prod.pro_id\n",
    "                       where ord.CUS_ID = 2 \"\"\"\n",
    "\n",
    "cursorObject.execute(Q4)\n",
    "\n",
    "output = cursorObject.fetchall()\n",
    "    \n",
    "output_df = pd.DataFrame(output, columns=['Product Name','Order Id', 'Order Amount', 'Order Date'])\n",
    "output_df"
   ]
  },
  {
   "cell_type": "markdown",
   "id": "26c6e55a",
   "metadata": {},
   "source": [
    "# Q5) Display the Supplier details who can supply more than one product."
   ]
  },
  {
   "cell_type": "code",
   "execution_count": 16,
   "id": "b6104ca4",
   "metadata": {},
   "outputs": [
    {
     "data": {
      "text/html": [
       "<div>\n",
       "<style scoped>\n",
       "    .dataframe tbody tr th:only-of-type {\n",
       "        vertical-align: middle;\n",
       "    }\n",
       "\n",
       "    .dataframe tbody tr th {\n",
       "        vertical-align: top;\n",
       "    }\n",
       "\n",
       "    .dataframe thead th {\n",
       "        text-align: right;\n",
       "    }\n",
       "</style>\n",
       "<table border=\"1\" class=\"dataframe\">\n",
       "  <thead>\n",
       "    <tr style=\"text-align: right;\">\n",
       "      <th></th>\n",
       "      <th>Supplier_Id</th>\n",
       "      <th>Supplier_Name</th>\n",
       "      <th>Supplier_City</th>\n",
       "      <th>Supplier_Phone</th>\n",
       "    </tr>\n",
       "  </thead>\n",
       "  <tbody>\n",
       "    <tr>\n",
       "      <th>0</th>\n",
       "      <td>1</td>\n",
       "      <td>Rajesh Retails</td>\n",
       "      <td>Delhi</td>\n",
       "      <td>1234567890</td>\n",
       "    </tr>\n",
       "  </tbody>\n",
       "</table>\n",
       "</div>"
      ],
      "text/plain": [
       "   Supplier_Id   Supplier_Name Supplier_City Supplier_Phone\n",
       "0            1  Rajesh Retails         Delhi     1234567890"
      ]
     },
     "execution_count": 16,
     "metadata": {},
     "output_type": "execute_result"
    }
   ],
   "source": [
    "Q5=\"\"\" select  s.SUPP_ID ,s.SUPP_NAME,s.SUPP_CITY,s.SUPP_PHONE from supplier s  inner join \n",
    "                     ( select pd.SUPP_ID from product_details pd group by \n",
    "                     SUPP_ID having count(SUPP_ID)>1) as c on s.SUPP_ID=c.SUPP_ID;';\"\"\"\n",
    "\n",
    "cursorObject.execute(Q5)\n",
    "    \n",
    "output = cursorObject.fetchall()\n",
    "output_df = pd.DataFrame(output, columns=['Supplier_Id','Supplier_Name','Supplier_City','Supplier_Phone'])\n",
    "output_df"
   ]
  },
  {
   "cell_type": "code",
   "execution_count": 19,
   "id": "066d2173",
   "metadata": {},
   "outputs": [],
   "source": [
    "connection.close()\n",
    "    \n",
    "connection = mysql.connector.connect(host =\"localhost\",\n",
    "                                     user =\"root\",\n",
    "                                     passwd =\"chandak@1981\",\n",
    "                                    database='e_commerce')\n",
    "   \n",
    "cursorObject = connection.cursor()"
   ]
  },
  {
   "cell_type": "markdown",
   "id": "2296c0b3",
   "metadata": {},
   "source": [
    "# Q6) Find the category of the product whose order amount is minimum."
   ]
  },
  {
   "cell_type": "code",
   "execution_count": 20,
   "id": "bc069230",
   "metadata": {},
   "outputs": [
    {
     "data": {
      "text/html": [
       "<div>\n",
       "<style scoped>\n",
       "    .dataframe tbody tr th:only-of-type {\n",
       "        vertical-align: middle;\n",
       "    }\n",
       "\n",
       "    .dataframe tbody tr th {\n",
       "        vertical-align: top;\n",
       "    }\n",
       "\n",
       "    .dataframe thead th {\n",
       "        text-align: right;\n",
       "    }\n",
       "</style>\n",
       "<table border=\"1\" class=\"dataframe\">\n",
       "  <thead>\n",
       "    <tr style=\"text-align: right;\">\n",
       "      <th></th>\n",
       "      <th>Category Name</th>\n",
       "    </tr>\n",
       "  </thead>\n",
       "  <tbody>\n",
       "    <tr>\n",
       "      <th>0</th>\n",
       "      <td>GROCERIES</td>\n",
       "    </tr>\n",
       "  </tbody>\n",
       "</table>\n",
       "</div>"
      ],
      "text/plain": [
       "  Category Name\n",
       "0     GROCERIES"
      ]
     },
     "execution_count": 20,
     "metadata": {},
     "output_type": "execute_result"
    }
   ],
   "source": [
    "Q6 = \"\"\" select cat.cat_name\n",
    "                       from e_commerce.category cat\n",
    "                            inner join e_commerce.product pro\n",
    "                               on cat.cat_id = pro.cat_id\n",
    "                            inner join e_commerce.product_details prod\n",
    "                               on pro.pro_id = prod.pro_id\n",
    "                     where prod.PROD_ID in (select prod_id\n",
    "                                              from e_commerce.order\n",
    "                                              where ord_amount = (select min(ord_amount)\n",
    "                                                                    from e_commerce.order))\"\"\"\n",
    "\n",
    "cursorObject.execute(Q6)\n",
    "    \n",
    "output = cursorObject.fetchall()\n",
    "    \n",
    "    \n",
    "output_df = pd.DataFrame(output, columns=['Category Name'])\n",
    "output_df"
   ]
  },
  {
   "cell_type": "markdown",
   "id": "960731db",
   "metadata": {},
   "source": [
    "# Q7) Display the Id and Name of the Product ordered after “2021-10-05"
   ]
  },
  {
   "cell_type": "code",
   "execution_count": 21,
   "id": "a5c7069b",
   "metadata": {},
   "outputs": [
    {
     "data": {
      "text/html": [
       "<div>\n",
       "<style scoped>\n",
       "    .dataframe tbody tr th:only-of-type {\n",
       "        vertical-align: middle;\n",
       "    }\n",
       "\n",
       "    .dataframe tbody tr th {\n",
       "        vertical-align: top;\n",
       "    }\n",
       "\n",
       "    .dataframe thead th {\n",
       "        text-align: right;\n",
       "    }\n",
       "</style>\n",
       "<table border=\"1\" class=\"dataframe\">\n",
       "  <thead>\n",
       "    <tr style=\"text-align: right;\">\n",
       "      <th></th>\n",
       "      <th>Product Id</th>\n",
       "      <th>Product Name</th>\n",
       "      <th>Order Date</th>\n",
       "    </tr>\n",
       "  </thead>\n",
       "  <tbody>\n",
       "    <tr>\n",
       "      <th>0</th>\n",
       "      <td>1</td>\n",
       "      <td>GTA V</td>\n",
       "      <td>2021-10-06</td>\n",
       "    </tr>\n",
       "    <tr>\n",
       "      <th>1</th>\n",
       "      <td>4</td>\n",
       "      <td>OATS</td>\n",
       "      <td>2021-10-12</td>\n",
       "    </tr>\n",
       "  </tbody>\n",
       "</table>\n",
       "</div>"
      ],
      "text/plain": [
       "   Product Id Product Name  Order Date\n",
       "0           1        GTA V  2021-10-06\n",
       "1           4         OATS  2021-10-12"
      ]
     },
     "execution_count": 21,
     "metadata": {},
     "output_type": "execute_result"
    }
   ],
   "source": [
    "Q7 = \"\"\"  select pro.pro_id,pro.pro_name, ord.ord_date\n",
    "                        from e_commerce.order ord\n",
    "                      inner join e_commerce.product_details prod\n",
    "                          on ord.prod_id = prod.prod_id\n",
    "                       inner join e_commerce.product pro\n",
    "                          on pro.pro_id = prod.pro_id\n",
    "                       where ord.ord_date > \"2021-10-05\"\n",
    "                       order by pro_id\"\"\"\n",
    "\n",
    "cursorObject.execute(Q7)\n",
    "    \n",
    "output = cursorObject.fetchall()\n",
    "    \n",
    "output_df = pd.DataFrame(output, columns=['Product Id','Product Name','Order Date'])\n",
    "output_df"
   ]
  },
  {
   "cell_type": "markdown",
   "id": "5770c6ae",
   "metadata": {},
   "source": [
    "# Q8) Print the top 3 supplier name and id and rating on the basis of their rating along with the customer name who has given the rating."
   ]
  },
  {
   "cell_type": "code",
   "execution_count": 23,
   "id": "f6eadcac",
   "metadata": {},
   "outputs": [
    {
     "data": {
      "text/html": [
       "<div>\n",
       "<style scoped>\n",
       "    .dataframe tbody tr th:only-of-type {\n",
       "        vertical-align: middle;\n",
       "    }\n",
       "\n",
       "    .dataframe tbody tr th {\n",
       "        vertical-align: top;\n",
       "    }\n",
       "\n",
       "    .dataframe thead th {\n",
       "        text-align: right;\n",
       "    }\n",
       "</style>\n",
       "<table border=\"1\" class=\"dataframe\">\n",
       "  <thead>\n",
       "    <tr style=\"text-align: right;\">\n",
       "      <th></th>\n",
       "      <th>Supplier Id</th>\n",
       "      <th>Supplier Name</th>\n",
       "      <th>Rating</th>\n",
       "      <th>Customer Name</th>\n",
       "    </tr>\n",
       "  </thead>\n",
       "  <tbody>\n",
       "    <tr>\n",
       "      <th>0</th>\n",
       "      <td>1</td>\n",
       "      <td>Rajesh Retails</td>\n",
       "      <td>5</td>\n",
       "      <td>PULKIT</td>\n",
       "    </tr>\n",
       "    <tr>\n",
       "      <th>1</th>\n",
       "      <td>2</td>\n",
       "      <td>Appario Ltd.</td>\n",
       "      <td>4</td>\n",
       "      <td>AMAN</td>\n",
       "    </tr>\n",
       "    <tr>\n",
       "      <th>2</th>\n",
       "      <td>5</td>\n",
       "      <td>Mittal Ltd.</td>\n",
       "      <td>4</td>\n",
       "      <td>MEGHA</td>\n",
       "    </tr>\n",
       "  </tbody>\n",
       "</table>\n",
       "</div>"
      ],
      "text/plain": [
       "   Supplier Id   Supplier Name  Rating Customer Name\n",
       "0            1  Rajesh Retails       5        PULKIT\n",
       "1            2    Appario Ltd.       4          AMAN\n",
       "2            5     Mittal Ltd.       4         MEGHA"
      ]
     },
     "execution_count": 23,
     "metadata": {},
     "output_type": "execute_result"
    }
   ],
   "source": [
    "Q8 = \"\"\"  select sup.supp_id,sup.supp_name,rate.rat_ratstars,cust.cus_name\n",
    "                        from (select *\n",
    "                              from e_commerce.rating\n",
    "                             order by rat_ratstars desc limit 3) rate\n",
    "                       inner join e_commerce.supplier sup\n",
    "                          on rate.supp_id = sup.supp_id\n",
    "                       inner join e_commerce.customer cust\n",
    "                          on rate.cus_id = cust.cus_id\"\"\"\n",
    "    \n",
    "cursorObject.execute(Q8)\n",
    "    \n",
    "output = cursorObject.fetchall()\n",
    "    \n",
    "output_df = pd.DataFrame(output, columns=['Supplier Id','Supplier Name','Rating','Customer Name'])\n",
    "output_df"
   ]
  },
  {
   "cell_type": "markdown",
   "id": "e03ee7c6",
   "metadata": {},
   "source": [
    "# Q9) Display customer name and gender whose names start or end with character 'A'."
   ]
  },
  {
   "cell_type": "code",
   "execution_count": 24,
   "id": "82f98119",
   "metadata": {},
   "outputs": [
    {
     "data": {
      "text/html": [
       "<div>\n",
       "<style scoped>\n",
       "    .dataframe tbody tr th:only-of-type {\n",
       "        vertical-align: middle;\n",
       "    }\n",
       "\n",
       "    .dataframe tbody tr th {\n",
       "        vertical-align: top;\n",
       "    }\n",
       "\n",
       "    .dataframe thead th {\n",
       "        text-align: right;\n",
       "    }\n",
       "</style>\n",
       "<table border=\"1\" class=\"dataframe\">\n",
       "  <thead>\n",
       "    <tr style=\"text-align: right;\">\n",
       "      <th></th>\n",
       "      <th>Customer Name</th>\n",
       "      <th>Gender</th>\n",
       "    </tr>\n",
       "  </thead>\n",
       "  <tbody>\n",
       "    <tr>\n",
       "      <th>0</th>\n",
       "      <td>AAKASH</td>\n",
       "      <td>M</td>\n",
       "    </tr>\n",
       "    <tr>\n",
       "      <th>1</th>\n",
       "      <td>AMAN</td>\n",
       "      <td>M</td>\n",
       "    </tr>\n",
       "    <tr>\n",
       "      <th>2</th>\n",
       "      <td>NEHA</td>\n",
       "      <td>F</td>\n",
       "    </tr>\n",
       "    <tr>\n",
       "      <th>3</th>\n",
       "      <td>MEGHA</td>\n",
       "      <td>F</td>\n",
       "    </tr>\n",
       "  </tbody>\n",
       "</table>\n",
       "</div>"
      ],
      "text/plain": [
       "  Customer Name Gender\n",
       "0        AAKASH      M\n",
       "1          AMAN      M\n",
       "2          NEHA      F\n",
       "3         MEGHA      F"
      ]
     },
     "execution_count": 24,
     "metadata": {},
     "output_type": "execute_result"
    }
   ],
   "source": [
    "Q9 = \"\"\"  select cus_name, cus_gender\n",
    "                    from customer cust\n",
    "                   where cus_name like 'A%' or  cus_name like '%A'\"\"\"\n",
    "\n",
    "cursorObject.execute(Q9)\n",
    "    \n",
    "output = cursorObject.fetchall()\n",
    "    \n",
    "output_df = pd.DataFrame(output, columns=['Customer Name','Gender'])\n",
    "output_df"
   ]
  },
  {
   "cell_type": "markdown",
   "id": "36c16faa",
   "metadata": {},
   "source": [
    "# Q10) Display the total order amount of the male customers."
   ]
  },
  {
   "cell_type": "code",
   "execution_count": 26,
   "id": "7f421fbc",
   "metadata": {},
   "outputs": [
    {
     "data": {
      "text/html": [
       "<div>\n",
       "<style scoped>\n",
       "    .dataframe tbody tr th:only-of-type {\n",
       "        vertical-align: middle;\n",
       "    }\n",
       "\n",
       "    .dataframe tbody tr th {\n",
       "        vertical-align: top;\n",
       "    }\n",
       "\n",
       "    .dataframe thead th {\n",
       "        text-align: right;\n",
       "    }\n",
       "</style>\n",
       "<table border=\"1\" class=\"dataframe\">\n",
       "  <thead>\n",
       "    <tr style=\"text-align: right;\">\n",
       "      <th></th>\n",
       "      <th>Total Ordered Amount</th>\n",
       "    </tr>\n",
       "  </thead>\n",
       "  <tbody>\n",
       "    <tr>\n",
       "      <th>0</th>\n",
       "      <td>34500</td>\n",
       "    </tr>\n",
       "  </tbody>\n",
       "</table>\n",
       "</div>"
      ],
      "text/plain": [
       "  Total Ordered Amount\n",
       "0                34500"
      ]
     },
     "execution_count": 26,
     "metadata": {},
     "output_type": "execute_result"
    }
   ],
   "source": [
    "Q10 = \"\"\" select sum(ord.ord_amount) \"Total Ordered Amount\"\n",
    "                        from e_commerce.order ord\n",
    "                       inner join e_commerce.customer cust\n",
    "                         on cust.cus_id = ord.cus_id\n",
    "                       where cust.cus_gender = 'M'\"\"\"\n",
    "    \n",
    "cursorObject.execute(Q10)\n",
    "    \n",
    "output = cursorObject.fetchall()\n",
    "    \n",
    "output_df = pd.DataFrame(output, columns=['Total Ordered Amount'])\n",
    "output_df"
   ]
  },
  {
   "cell_type": "markdown",
   "id": "73635ad4",
   "metadata": {},
   "source": [
    "# Q11) Display all the Customers left outer join with  the orders"
   ]
  },
  {
   "cell_type": "code",
   "execution_count": 27,
   "id": "a8e14101",
   "metadata": {},
   "outputs": [
    {
     "data": {
      "text/html": [
       "<div>\n",
       "<style scoped>\n",
       "    .dataframe tbody tr th:only-of-type {\n",
       "        vertical-align: middle;\n",
       "    }\n",
       "\n",
       "    .dataframe tbody tr th {\n",
       "        vertical-align: top;\n",
       "    }\n",
       "\n",
       "    .dataframe thead th {\n",
       "        text-align: right;\n",
       "    }\n",
       "</style>\n",
       "<table border=\"1\" class=\"dataframe\">\n",
       "  <thead>\n",
       "    <tr style=\"text-align: right;\">\n",
       "      <th></th>\n",
       "      <th>Customer Id</th>\n",
       "      <th>Customer Name</th>\n",
       "      <th>Customer Phone</th>\n",
       "      <th>Customer City</th>\n",
       "      <th>Gender</th>\n",
       "    </tr>\n",
       "  </thead>\n",
       "  <tbody>\n",
       "    <tr>\n",
       "      <th>0</th>\n",
       "      <td>1</td>\n",
       "      <td>AAKASH</td>\n",
       "      <td>9999999999</td>\n",
       "      <td>DELHI</td>\n",
       "      <td>M</td>\n",
       "    </tr>\n",
       "    <tr>\n",
       "      <th>1</th>\n",
       "      <td>2</td>\n",
       "      <td>AMAN</td>\n",
       "      <td>9785463215</td>\n",
       "      <td>NOIDA</td>\n",
       "      <td>M</td>\n",
       "    </tr>\n",
       "    <tr>\n",
       "      <th>2</th>\n",
       "      <td>3</td>\n",
       "      <td>NEHA</td>\n",
       "      <td>9999999998</td>\n",
       "      <td>MUMBAI</td>\n",
       "      <td>F</td>\n",
       "    </tr>\n",
       "    <tr>\n",
       "      <th>3</th>\n",
       "      <td>4</td>\n",
       "      <td>MEGHA</td>\n",
       "      <td>9994562399</td>\n",
       "      <td>KOLKATA</td>\n",
       "      <td>F</td>\n",
       "    </tr>\n",
       "    <tr>\n",
       "      <th>4</th>\n",
       "      <td>5</td>\n",
       "      <td>PULKIT</td>\n",
       "      <td>7895999999</td>\n",
       "      <td>LUCKNOW</td>\n",
       "      <td>M</td>\n",
       "    </tr>\n",
       "  </tbody>\n",
       "</table>\n",
       "</div>"
      ],
      "text/plain": [
       "   Customer Id Customer Name Customer Phone Customer City Gender\n",
       "0            1        AAKASH     9999999999         DELHI      M\n",
       "1            2          AMAN     9785463215         NOIDA      M\n",
       "2            3          NEHA     9999999998        MUMBAI      F\n",
       "3            4         MEGHA     9994562399       KOLKATA      F\n",
       "4            5        PULKIT     7895999999       LUCKNOW      M"
      ]
     },
     "execution_count": 27,
     "metadata": {},
     "output_type": "execute_result"
    }
   ],
   "source": [
    "Q11 = \"\"\" select cust.CUS_ID, cust.cus_name, cust.cus_phone, cust.cus_city, cust.cus_gender\n",
    "                        from e_commerce.customer cust\n",
    "                        left outer join e_commerce.order ord\n",
    "                          on cust.cus_id = ord.cus_id\"\"\"\n",
    "    \n",
    "cursorObject.execute(Q11)\n",
    "    \n",
    "output = cursorObject.fetchall()\n",
    "    \n",
    "output_df = pd.DataFrame(output, columns=['Customer Id','Customer Name','Customer Phone','Customer City','Gender'])\n",
    "output_df"
   ]
  },
  {
   "cell_type": "markdown",
   "id": "f5ac2e05",
   "metadata": {},
   "source": [
    "## HAPPY LEARNING :)"
   ]
  },
  {
   "cell_type": "code",
   "execution_count": null,
   "id": "4798bcbd",
   "metadata": {},
   "outputs": [],
   "source": []
  }
 ],
 "metadata": {
  "kernelspec": {
   "display_name": "Python 3 (ipykernel)",
   "language": "python",
   "name": "python3"
  },
  "language_info": {
   "codemirror_mode": {
    "name": "ipython",
    "version": 3
   },
   "file_extension": ".py",
   "mimetype": "text/x-python",
   "name": "python",
   "nbconvert_exporter": "python",
   "pygments_lexer": "ipython3",
   "version": "3.10.9"
  }
 },
 "nbformat": 4,
 "nbformat_minor": 5
}
